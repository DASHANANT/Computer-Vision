{
 "cells": [
  {
   "cell_type": "code",
   "execution_count": 2,
   "metadata": {},
   "outputs": [],
   "source": [
    "import cv2\n",
    "import numpy as np\n",
    "im1= cv2.imread('pet.jpg')\n",
    "im1\n",
    "\n",
    "mask1= np.ones(im1.shape,dtype='uint8')*80\n",
    "mask2= np.ones(im1.shape,dtype='uint8')*160\n",
    "\n",
    "a= cv2.add(im1,mask1)\n",
    "b= cv2.add(im1,mask2)\n",
    "\n",
    "c= cv2.subtract(im1,mask1)\n",
    "d= cv2.subtract(im1,mask2)\n",
    "\n",
    "cv2.imshow(\"a\",a)\n",
    "cv2.imshow(\"b\",b)\n",
    "cv2.imshow(\"c\",c)\n",
    "cv2.imshow(\"d\",d)\n",
    "cv2.waitKey(0)\n",
    "cv2.destroyAllWindows()"
   ]
  },
  {
   "cell_type": "code",
   "execution_count": null,
   "metadata": {},
   "outputs": [],
   "source": []
  }
 ],
 "metadata": {
  "kernelspec": {
   "display_name": "Python 3",
   "language": "python",
   "name": "python3"
  },
  "language_info": {
   "codemirror_mode": {
    "name": "ipython",
    "version": 3
   },
   "file_extension": ".py",
   "mimetype": "text/x-python",
   "name": "python",
   "nbconvert_exporter": "python",
   "pygments_lexer": "ipython3",
   "version": "3.8.3"
  }
 },
 "nbformat": 4,
 "nbformat_minor": 4
}
