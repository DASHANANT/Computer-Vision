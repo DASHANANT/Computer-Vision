{
 "cells": [
  {
   "cell_type": "code",
   "execution_count": 1,
   "id": "ce745cdc",
   "metadata": {},
   "outputs": [],
   "source": [
    "import cv2\n",
    "import numpy as np\n"
   ]
  },
  {
   "cell_type": "code",
   "execution_count": null,
   "id": "a1d41cce",
   "metadata": {},
   "outputs": [],
   "source": [
    "img=cv2.imread(\"blob.jpg\",0)\n",
    "detetctor=cv2.SimpleBlobDetector()\n",
    "\n",
    "keypoints=detector.detect(img)\n",
    "\n",
    "blank= np.zeros((1,1))\n",
    "blobs=cv2.drawKeypoints(img,keypoints,blank,(0,0,255),cv2.DRAW,MATCHES,FLAGS,DRAW,RICH,KEYPOINTS)\n",
    "count=len(keypoints)\n",
    "text='found'+str(count)+'blobs'\n",
    "cv2.putText(blobs,text,(20,550),cv2/FONT_HERSHEY_SIMPLEX,1,(100,0,255),2)\n",
    "\n",
    "cv2.imshow(\"blobs\",blobs)\n",
    "cv2.waitKey(0)\n",
    "cv2.destryAllWindo"
   ]
  }
 ],
 "metadata": {
  "kernelspec": {
   "display_name": "Python 3",
   "language": "python",
   "name": "python3"
  },
  "language_info": {
   "codemirror_mode": {
    "name": "ipython",
    "version": 3
   },
   "file_extension": ".py",
   "mimetype": "text/x-python",
   "name": "python",
   "nbconvert_exporter": "python",
   "pygments_lexer": "ipython3",
   "version": "3.8.8"
  }
 },
 "nbformat": 4,
 "nbformat_minor": 5
}
