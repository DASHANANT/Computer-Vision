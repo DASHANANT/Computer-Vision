{
 "cells": [
  {
   "cell_type": "code",
   "execution_count": 2,
   "metadata": {},
   "outputs": [],
   "source": [
    "import cv2\n",
    "import numpy as np\n",
    "im1= cv2.imread('pet.jpg')\n",
    "im1\n",
    "\n",
    "mask1= np.ones(im1.shape,dtype='uint8')*80\n",
    "mask2= np.ones(im1.shape,dtype='uint8')*160\n",
    "\n",
    "a= cv2.add(im1,mask1)\n",
    "b= cv2.add(im1,mask2)\n",
    "\n",
    "c= cv2.subtract(im1,mask1)\n",
    "d= cv2.subtract(im1,mask2)\n",
    "\n",
    "cv2.imshow(\"a\",a)\n",
    "cv2.imshow(\"b\",b)\n",
    "cv2.imshow(\"c\",c)\n",
    "cv2.imshow(\"d\",d)\n",
    "cv2.waitKey(0)\n",
    "cv2.destroyAllWindows()"
   ]
  },
 
 "nbformat": 4,
 "nbformat_minor": 4
}
