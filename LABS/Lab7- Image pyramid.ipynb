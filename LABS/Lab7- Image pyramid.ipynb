{
 "cells": [
  {
   "cell_type": "code",
   "execution_count": 3,
   "metadata": {},
   "outputs": [],
   "source": [
    "import cv2\n",
    "image=cv2.imread('pet.jpg')\n",
    "\n",
    "s1= cv2.pyrDown(image)\n",
    "s2= cv2.pyrDown(s1)\n",
    "s3= cv2.pyrDown(s2)\n",
    "s4= cv2.pyrDown(s3)\n",
    "cv2.imshow('original',image)\n",
    "cv2.imshow('smaller*2',s1)\n",
    "cv2.imshow('smaller*4',s2)\n",
    "cv2.imshow('smaller*8',s3)\n",
    "cv2.imshow('smaller*16',s4)\n",
    "cv2.waitKey(0)\n",
    "cv2.destroyAllWindows()"
   ]
  },
  {
   "cell_type": "code",
   "execution_count": null,
   "metadata": {},
   "outputs": [],
   "source": []
  }
 ],
 "metadata": {
  "kernelspec": {
   "display_name": "Python 3",
   "language": "python",
   "name": "python3"
  },
  "language_info": {
   "codemirror_mode": {
    "name": "ipython",
    "version": 3
   },
   "file_extension": ".py",
   "mimetype": "text/x-python",
   "name": "python",
   "nbconvert_exporter": "python",
   "pygments_lexer": "ipython3",
   "version": "3.8.3"
  }
 },
 "nbformat": 4,
 "nbformat_minor": 4
}
