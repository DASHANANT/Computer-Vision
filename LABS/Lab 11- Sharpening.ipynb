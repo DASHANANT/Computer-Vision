{
 "cells": [
  {
   "cell_type": "code",
   "execution_count": 1,
   "metadata": {},
   "outputs": [],
   "source": [
    "import cv2\n",
    "import numpy as np\n",
    "\n",
    "im1=cv2.imread('pet.jpg')\n",
    "im1= cv2.pyrDown(im1)\n",
    "im1= cv2.pyrDown(im1)\n",
    "\n",
    "\n",
    "mask1= np.array(([-1,-1,-1],[-1,9,-1],[-1,-1,-1]),np.float32)\n",
    "mask2= np.array(([-1,-1,-1],[-1,9,-1],[-1,-1,-1]),np.float32)\n",
    "mask3= np.array(([-1,-1,-1],[-1,9,-1],[-1,-1,-1]),np.float32)\n",
    "\n",
    "A4= cv2.filter2D(im1,-1,mask1)\n",
    "A5= cv2.filter2D(A4,-1,mask2)\n",
    "\n",
    "cv2.imshow('sharpend ',A4)\n",
    "cv2.imshow('sharping sharpened img',A5)\n",
    "\n",
    "cv2.waitKey(0)\n",
    "cv2.destroyAllWindows()"
   ]
  },
  {
   "cell_type": "code",
   "execution_count": null,
   "metadata": {},
   "outputs": [],
   "source": []
  }
 ],
 "metadata": {
  "kernelspec": {
   "display_name": "Python 3",
   "language": "python",
   "name": "python3"
  },
  "language_info": {
   "codemirror_mode": {
    "name": "ipython",
    "version": 3
   },
   "file_extension": ".py",
   "mimetype": "text/x-python",
   "name": "python",
   "nbconvert_exporter": "python",
   "pygments_lexer": "ipython3",
   "version": "3.8.3"
  }
 },
 "nbformat": 4,
 "nbformat_minor": 4
}
