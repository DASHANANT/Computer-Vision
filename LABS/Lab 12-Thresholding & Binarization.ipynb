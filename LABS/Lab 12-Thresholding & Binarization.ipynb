{
 "cells": [
  {
   "cell_type": "code",
   "execution_count": null,
   "metadata": {},
   "outputs": [],
   "source": [
    "import cv2\n",
    "import numpy as np\n",
    "\n",
    "im1= cv2.imread('pet.jpg')\n",
    "im1= cv2.pyrDown(im1)\n",
    "im1= cv2.pyrDown(im1)\n",
    "\n",
    "im2= cv2.imread('pet.jpg',0)\n",
    "im2= cv2.pyrDown(im2)\n",
    "\n",
    "im2= cv2.pyrDown(im2)\n",
    "ret,t1= cv2.threshold(im1,127,255,cv2.THRESH_BINARY)\n",
    "ret,t2= cv2.threshold(im1,127,255,cv2.THRESH_BINARY_INV)\n",
    "ret,t3= cv2.threshold(im1,127,255,cv2.THRESH_TRUNC)\n",
    "ret,t4= cv2.threshold(im1,127,255,cv2.THRESH_TOZERO)\n",
    "ret,t5= cv2.threshold(im1,127,255,cv2.THRESH_TOZERO_INV)\n",
    "ret,t1g= cv2.threshold(im2,127,255,cv2.THRESH_BINARY)\n",
    "ret,t2g= cv2.threshold(im2,127,255,cv2.THRESH_BINARY_INV)\n",
    "ret,t3g= cv2.threshold(im2,127,255,cv2.THRESH_TRUNC)\n",
    "ret,t4g= cv2.threshold(im2,127,255,cv2.THRESH_TOZERO)\n",
    "ret,t5g= cv2.threshold(im2,127,255,cv2.THRESH_TOZERO_INV)\n",
    "cv2.imshow('bin ',t1)\n",
    "cv2.imshow('bin inv',t2)\n",
    "cv2.imshow('truncation ',t3)\n",
    "cv2.imshow('to zero',t4)\n",
    "cv2.imshow('zero inv ',t5)\n",
    "cv2.imshow('bin g ',t1g)\n",
    "cv2.imshow('bin inv g',t2g)\n",
    "cv2.imshow('truncation  g',t3g)\n",
    "cv2.imshow('to zero g',t4g)\n",
    "cv2.imshow('zero inv g ',t5g)\n",
    "cv2.waitKey(0)\n",
    "cv2.destroyAllWindows()"
   ]
  },
  {
   "cell_type": "code",
   "execution_count": null,
   "metadata": {},
   "outputs": [],
   "source": []
  }
 ],
 "metadata": {
  "kernelspec": {
   "display_name": "Python 3",
   "language": "python",
   "name": "python3"
  },
  "language_info": {
   "codemirror_mode": {
    "name": "ipython",
    "version": 3
   },
   "file_extension": ".py",
   "mimetype": "text/x-python",
   "name": "python",
   "nbconvert_exporter": "python",
   "pygments_lexer": "ipython3",
   "version": "3.8.3"
  }
 },
 "nbformat": 4,
 "nbformat_minor": 4
}
