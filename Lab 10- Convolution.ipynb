{
 "cells": [
  {
   "cell_type": "code",
   "execution_count": null,
   "metadata": {},
   "outputs": [],
   "source": [
    "import cv2\n",
    "import numpy as np\n",
    "\n",
    "im1=cv2.imread('pet.jpg')\n",
    "im1= cv2.pyrDown(im1)\n",
    "im1= cv2.pyrDown(im1)\n",
    "\n",
    "blur1= np.ones((3,3),np.float32)*1/9\n",
    "blur2= np.ones((5,5),np.float32)*1/25\n",
    "blur3= np.ones((5,5),np.float32)*1/25\n",
    "\n",
    "mask1= np.array(([-1,0,1],[-4,0,4],[-1,0,1]),np.float32)\n",
    "mask2= np.array(([-1,-2,-1],[0,0,0],[1,2,1]),np.float32)\n",
    "mask3= np.array(([0,-2,0],[-2,8,-2],[0,-2,0]),np.float32)\n",
    "\n",
    "\n",
    "A1= cv2.filter2D(im1,-1,blur1)\n",
    "A2= cv2.filter2D(im1,-1,blur2)\n",
    "A3= cv2.filter2D(im1,-1,blur3)\n",
    "A4= cv2.filter2D(im1,-1,mask1)\n",
    "A5= cv2.filter2D(im1,-1,mask2)\n",
    "A6= cv2.filter2D(im1,-1,mask3)\n",
    "cv2.imshow('3 blur',A1)\n",
    "cv2.imshow('5 blur',A2)\n",
    "cv2.imshow('7 blur',A3)\n",
    "cv2.imshow('vertical edge ',A4)\n",
    "cv2.imshow('horizontal edge',A5)\n",
    "cv2.imshow('Contrast',A6)\n",
    "cv2.waitKey(0)\n",
    "cv2.destroyAllWindows()"
    }
   ]
  }

